{
 "cells": [
  {
   "cell_type": "code",
   "execution_count": 84,
   "metadata": {},
   "outputs": [
    {
     "data": {
      "text/html": [
       "<div>\n",
       "<style scoped>\n",
       "    .dataframe tbody tr th:only-of-type {\n",
       "        vertical-align: middle;\n",
       "    }\n",
       "\n",
       "    .dataframe tbody tr th {\n",
       "        vertical-align: top;\n",
       "    }\n",
       "\n",
       "    .dataframe thead th {\n",
       "        text-align: right;\n",
       "    }\n",
       "</style>\n",
       "<table border=\"1\" class=\"dataframe\">\n",
       "  <thead>\n",
       "    <tr style=\"text-align: right;\">\n",
       "      <th></th>\n",
       "      <th>option_state</th>\n",
       "      <th>option_owner</th>\n",
       "      <th>strike</th>\n",
       "      <th>amount</th>\n",
       "      <th>strikeAmount.mul(optionCollateralizationRatio).div(100).add(strikeFee)</th>\n",
       "      <th>premium</th>\n",
       "      <th>expiration_date</th>\n",
       "      <th>optionType</th>\n",
       "      <th>market</th>\n",
       "    </tr>\n",
       "  </thead>\n",
       "  <tbody>\n",
       "    <tr>\n",
       "      <th>0</th>\n",
       "      <td>2</td>\n",
       "      <td>0x3B2cba3423199f73924AD609fa8EeC504E1FaC1f</td>\n",
       "      <td>37232447572</td>\n",
       "      <td>1000000000000000000</td>\n",
       "      <td>1000000000000000000</td>\n",
       "      <td>69975000000000000</td>\n",
       "      <td>1604784056</td>\n",
       "      <td>2</td>\n",
       "      <td>eth_options</td>\n",
       "    </tr>\n",
       "    <tr>\n",
       "      <th>1</th>\n",
       "      <td>1</td>\n",
       "      <td>0xef764BAC8a438E7E498c2E5fcCf0f174c3E3F8dB</td>\n",
       "      <td>37232447572</td>\n",
       "      <td>50000000000000000000</td>\n",
       "      <td>50000000000000000000</td>\n",
       "      <td>3498750000000000000</td>\n",
       "      <td>1604784207</td>\n",
       "      <td>1</td>\n",
       "      <td>eth_options</td>\n",
       "    </tr>\n",
       "    <tr>\n",
       "      <th>2</th>\n",
       "      <td>1</td>\n",
       "      <td>0xef764BAC8a438E7E498c2E5fcCf0f174c3E3F8dB</td>\n",
       "      <td>37232447572</td>\n",
       "      <td>50000000000000000000</td>\n",
       "      <td>50000000000000000000</td>\n",
       "      <td>3498750000000000000</td>\n",
       "      <td>1604784217</td>\n",
       "      <td>2</td>\n",
       "      <td>eth_options</td>\n",
       "    </tr>\n",
       "    <tr>\n",
       "      <th>3</th>\n",
       "      <td>3</td>\n",
       "      <td>0x3DCa07E16B2Becd3eb76a9F9CE240B525451f887</td>\n",
       "      <td>37400000000</td>\n",
       "      <td>32000000000000000000</td>\n",
       "      <td>32000000000000000000</td>\n",
       "      <td>421638156312625250</td>\n",
       "      <td>1602451763</td>\n",
       "      <td>1</td>\n",
       "      <td>eth_options</td>\n",
       "    </tr>\n",
       "    <tr>\n",
       "      <th>4</th>\n",
       "      <td>3</td>\n",
       "      <td>0x45223f8E765457604A711062F158Bf093De8f636</td>\n",
       "      <td>37425000000</td>\n",
       "      <td>500000000000000000</td>\n",
       "      <td>500000000000000000</td>\n",
       "      <td>17482500000000000</td>\n",
       "      <td>1602970633</td>\n",
       "      <td>2</td>\n",
       "      <td>eth_options</td>\n",
       "    </tr>\n",
       "  </tbody>\n",
       "</table>\n",
       "</div>"
      ],
      "text/plain": [
       "   option_state                                option_owner       strike  \\\n",
       "0             2  0x3B2cba3423199f73924AD609fa8EeC504E1FaC1f  37232447572   \n",
       "1             1  0xef764BAC8a438E7E498c2E5fcCf0f174c3E3F8dB  37232447572   \n",
       "2             1  0xef764BAC8a438E7E498c2E5fcCf0f174c3E3F8dB  37232447572   \n",
       "3             3  0x3DCa07E16B2Becd3eb76a9F9CE240B525451f887  37400000000   \n",
       "4             3  0x45223f8E765457604A711062F158Bf093De8f636  37425000000   \n",
       "\n",
       "                 amount  \\\n",
       "0   1000000000000000000   \n",
       "1  50000000000000000000   \n",
       "2  50000000000000000000   \n",
       "3  32000000000000000000   \n",
       "4    500000000000000000   \n",
       "\n",
       "  strikeAmount.mul(optionCollateralizationRatio).div(100).add(strikeFee)  \\\n",
       "0                                1000000000000000000                       \n",
       "1                               50000000000000000000                       \n",
       "2                               50000000000000000000                       \n",
       "3                               32000000000000000000                       \n",
       "4                                 500000000000000000                       \n",
       "\n",
       "               premium  expiration_date  optionType       market  \n",
       "0    69975000000000000       1604784056           2  eth_options  \n",
       "1  3498750000000000000       1604784207           1  eth_options  \n",
       "2  3498750000000000000       1604784217           2  eth_options  \n",
       "3   421638156312625250       1602451763           1  eth_options  \n",
       "4    17482500000000000       1602970633           2  eth_options  "
      ]
     },
     "execution_count": 84,
     "metadata": {},
     "output_type": "execute_result"
    }
   ],
   "source": [
    "import matplotlib as mtp\n",
    "import pandas as pd\n",
    "import seaborn as sns\n",
    "%matplotlib inline\n",
    "\n",
    "mtp.rcParams['figure.figsize'] = [16,10]\n",
    "# sns.set_theme(style=\"whitegrid\")\n",
    "\n",
    "df = pd.read_csv(\"current_options.csv\")\n",
    "df.head()"
   ]
  },
  {
   "cell_type": "code",
   "execution_count": 85,
   "metadata": {},
   "outputs": [],
   "source": [
    "def mapp_option_type(row):\n",
    "    mapping = {1: \"Put\", 2:\"Call\"}\n",
    "    return mapping[row]\n",
    "\n",
    "\n",
    "def mapping_status(row):\n",
    "    mapping = {0: \"Inactive\",\n",
    "        1: \"Active\",\n",
    "        2: \"Exercised\",\n",
    "        3: \"Expired\"\n",
    "    }\n",
    "    return mapping[row]\n",
    "df[\"option_state\"] = df[\"option_state\"].apply(mapping_status)\n",
    "df[\"optionType\"] = df[\"optionType\"].apply(mapp_option_type)\n"
   ]
  },
  {
   "cell_type": "code",
   "execution_count": 86,
   "metadata": {},
   "outputs": [],
   "source": [
    "eth = df[df.market == \"eth_options\"]"
   ]
  },
  {
   "cell_type": "code",
   "execution_count": 87,
   "metadata": {},
   "outputs": [
    {
     "name": "stdout",
     "output_type": "stream",
     "text": [
      "                amount\n",
      "optionType            \n",
      "Call        15412.2334\n",
      "Put          6925.7218\n"
     ]
    },
    {
     "name": "stderr",
     "output_type": "stream",
     "text": [
      "/home/tom/.local/lib/python3.6/site-packages/ipykernel_launcher.py:4: SettingWithCopyWarning: \n",
      "A value is trying to be set on a copy of a slice from a DataFrame.\n",
      "Try using .loc[row_indexer,col_indexer] = value instead\n",
      "\n",
      "See the caveats in the documentation: https://pandas.pydata.org/pandas-docs/stable/user_guide/indexing.html#returning-a-view-versus-a-copy\n",
      "  after removing the cwd from sys.path.\n"
     ]
    }
   ],
   "source": [
    "\n",
    "def cal_in_eth(val):\n",
    "    return float(web3.Web3.fromWei(int(val), \"ether\"))\n",
    "\n",
    "eth[\"amount\"] = eth[\"amount\"].apply(cal_in_eth)\n",
    "\n",
    "results = eth[[\"optionType\", \"amount\"]].groupby(\"optionType\").sum()\n",
    "\n",
    "print(results)"
   ]
  },
  {
   "cell_type": "code",
   "execution_count": 88,
   "metadata": {},
   "outputs": [
    {
     "data": {
      "image/png": "[encoded data removed]",
      "text/plain": [
       "<matplotlib.figure.Figure at 0x7fccd6b58358>"
      ]
     },
     "metadata": {
      "needs_background": "light"
     },
     "output_type": "display_data"
    }
   ],
   "source": [
    "\n",
    "ax = sns.barplot(x=\"optionType\", y=\"amount\", data=eth, hue=\"option_state\", estimator=sum)\n"
   ]
  },
  {
   "cell_type": "code",
   "execution_count": null,
   "metadata": {},
   "outputs": [],
   "source": []
  }
 ],
 "metadata": {
  "kernelspec": {
   "display_name": "Python 3",
   "language": "python",
   "name": "python3"
  },
  "language_info": {
   "codemirror_mode": {
    "name": "ipython",
    "version": 3
   },
   "file_extension": ".py",
   "mimetype": "text/x-python",
   "name": "python",
   "nbconvert_exporter": "python",
   "pygments_lexer": "ipython3",
   "version": "3.6.9"
  }
 },
 "nbformat": 4,
 "nbformat_minor": 4
}
